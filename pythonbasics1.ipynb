{
  "nbformat": 4,
  "nbformat_minor": 0,
  "metadata": {
    "colab": {
      "name": "pythonbasics1.ipynb",
      "provenance": [],
      "collapsed_sections": [],
      "authorship_tag": "ABX9TyMkWVmNTWlTFS1mZsE4HXJI",
      "include_colab_link": true
    },
    "kernelspec": {
      "name": "python3",
      "display_name": "Python 3"
    },
    "language_info": {
      "name": "python"
    }
  },
  "cells": [
    {
      "cell_type": "markdown",
      "metadata": {
        "id": "view-in-github",
        "colab_type": "text"
      },
      "source": [
        "<a href=\"https://colab.research.google.com/github/bharghavvuppu/Html_basic_project/blob/main/pythonbasics1.ipynb\" target=\"_parent\"><img src=\"https://colab.research.google.com/assets/colab-badge.svg\" alt=\"Open In Colab\"/></a>"
      ]
    },
    {
      "cell_type": "code",
      "execution_count": 1,
      "metadata": {
        "colab": {
          "base_uri": "https://localhost:8080/"
        },
        "id": "b2alVGr0dBz_",
        "outputId": "cb90b7dc-8641-40dd-f80d-fb7297d57b9a"
      },
      "outputs": [
        {
          "output_type": "stream",
          "name": "stdout",
          "text": [
            "hello\n"
          ]
        }
      ],
      "source": [
        "print('hello')"
      ]
    },
    {
      "cell_type": "code",
      "source": [
        "#hello hi \n"
      ],
      "metadata": {
        "id": "vBiN-8U4dJi0"
      },
      "execution_count": 4,
      "outputs": []
    },
    {
      "cell_type": "markdown",
      "source": [
        "indentation\n"
      ],
      "metadata": {
        "id": "vSiYg0qUeD-I"
      }
    },
    {
      "cell_type": "code",
      "source": [
        "if 6<9:\n",
        "  print('true')\n",
        "else:\n",
        "    print('false')"
      ],
      "metadata": {
        "colab": {
          "base_uri": "https://localhost:8080/"
        },
        "id": "6iFriIRpdcxL",
        "outputId": "43fc51e7-d3f2-4597-b081-f35fefbc2fcd"
      },
      "execution_count": 8,
      "outputs": [
        {
          "output_type": "stream",
          "name": "stdout",
          "text": [
            "true\n"
          ]
        }
      ]
    },
    {
      "cell_type": "code",
      "source": [
        "#variables\n",
        "a=7\n",
        "b='hello'\n",
        "print(a,b)"
      ],
      "metadata": {
        "colab": {
          "base_uri": "https://localhost:8080/"
        },
        "id": "buwdWsSrdnIe",
        "outputId": "1ab1efc4-2b0d-418d-d446-0875f4c30296"
      },
      "execution_count": 10,
      "outputs": [
        {
          "output_type": "stream",
          "name": "stdout",
          "text": [
            "7 hello\n"
          ]
        }
      ]
    },
    {
      "cell_type": "code",
      "source": [
        "#casting variables\n",
        "a=5\n",
        "print(type(a))\n",
        "b=str(a)\n",
        "print(type(b))\n",
        "c='hello'\n",
        "print(type(c))"
      ],
      "metadata": {
        "colab": {
          "base_uri": "https://localhost:8080/"
        },
        "id": "wR7oLYngecYg",
        "outputId": "0a5965d4-9ad0-460b-c921-647447a68359"
      },
      "execution_count": 15,
      "outputs": [
        {
          "output_type": "stream",
          "name": "stdout",
          "text": [
            "<class 'int'>\n",
            "<class 'str'>\n",
            "<class 'str'>\n"
          ]
        }
      ]
    },
    {
      "cell_type": "code",
      "source": [
        "#many values to multiple variables\n",
        "x,y,z='mango','banana','apple'\n",
        "print(x)\n",
        "print(y)\n",
        "print(z)"
      ],
      "metadata": {
        "colab": {
          "base_uri": "https://localhost:8080/"
        },
        "id": "nYne5y_UfcSN",
        "outputId": "2089937b-3743-4389-dffa-de05451b412c"
      },
      "execution_count": 17,
      "outputs": [
        {
          "output_type": "stream",
          "name": "stdout",
          "text": [
            "mango\n",
            "banana\n",
            "apple\n"
          ]
        }
      ]
    },
    {
      "cell_type": "code",
      "source": [
        "#one value to multiple variables\n",
        "x=y=z=3\n",
        "print(y)\n",
        "print(x)"
      ],
      "metadata": {
        "colab": {
          "base_uri": "https://localhost:8080/"
        },
        "id": "awZdDNLBf9pF",
        "outputId": "4b28c6ad-f166-4ecd-8f58-e877a1ed9257"
      },
      "execution_count": 19,
      "outputs": [
        {
          "output_type": "stream",
          "name": "stdout",
          "text": [
            "3\n",
            "3\n"
          ]
        }
      ]
    },
    {
      "cell_type": "code",
      "source": [
        "#output variables\n",
        "a=str(12)\n",
        "print('my lucky number is: '+ a)\n",
        "\n",
        "a='abhi'\n",
        "b=str(12)\n",
        "print('my name is:' + a + ' and my luckky no. is:' + b)"
      ],
      "metadata": {
        "colab": {
          "base_uri": "https://localhost:8080/"
        },
        "id": "PsYQFR7ZgQy7",
        "outputId": "ea48784f-447b-4fdb-a774-f201b27d316a"
      },
      "execution_count": 32,
      "outputs": [
        {
          "output_type": "stream",
          "name": "stdout",
          "text": [
            "my lucky number is: 12\n",
            "my name is:abhi and my luckky no. is:12\n"
          ]
        }
      ]
    },
    {
      "cell_type": "code",
      "source": [
        "# text data type\n",
        "a='bob'\n",
        "print(type(a))\n",
        "#int data type\n",
        "b=12\n",
        "print(type(b))\n",
        "#float data type\n",
        "c=8.97\n",
        "print(type(c))\n",
        "#boolean type\n",
        "a=bool(3)\n",
        "print(a)\n",
        "#comlex no.\n",
        "a=2j+3\n",
        "print(type(a))\n",
        "\n",
        "#mapping data type\n",
        "mydict={'a':1,'b':2}\n",
        "print((mydict))\n",
        "\n",
        "#set type\n",
        "myset=set(('a','g'))\n",
        "print(myset)\n",
        "\n",
        "\n"
      ],
      "metadata": {
        "colab": {
          "base_uri": "https://localhost:8080/"
        },
        "id": "QdHLnVh_hyLb",
        "outputId": "0c0f6936-fd0b-4049-aa3c-08aa4234fac6"
      },
      "execution_count": 50,
      "outputs": [
        {
          "output_type": "stream",
          "name": "stdout",
          "text": [
            "<class 'str'>\n",
            "<class 'int'>\n",
            "<class 'float'>\n",
            "True\n",
            "<class 'complex'>\n",
            "{'a': 1, 'b': 2}\n",
            "{'a', 'g'}\n"
          ]
        }
      ]
    },
    {
      "cell_type": "code",
      "source": [
        "#list and tuples and range\n",
        "mylist=[1,2,3,'abc',1.9]\n",
        "print(type(mylist))\n",
        "\n",
        "mytuple=(1,2,3,'abc')\n",
        "print(type(mytuple))\n",
        "\n",
        "for i in range(1,10,2):\n",
        "  print(i)"
      ],
      "metadata": {
        "colab": {
          "base_uri": "https://localhost:8080/"
        },
        "id": "6NbjcfjeJ-dL",
        "outputId": "e2ccf2ef-8542-4b62-baf8-3b10a686d69b"
      },
      "execution_count": 57,
      "outputs": [
        {
          "output_type": "stream",
          "name": "stdout",
          "text": [
            "<class 'list'>\n",
            "<class 'tuple'>\n",
            "1\n",
            "3\n",
            "5\n",
            "7\n",
            "9\n"
          ]
        }
      ]
    },
    {
      "cell_type": "code",
      "source": [
        "#type conversions\n",
        "a=1\n",
        "b=2.5\n",
        "c=10\n",
        "x=float(a)\n",
        "print(x)\n",
        "y=int(b)\n",
        "z=float(c)\n",
        "print(y,z)\n"
      ],
      "metadata": {
        "colab": {
          "base_uri": "https://localhost:8080/"
        },
        "id": "qOFcyYduLFwj",
        "outputId": "1f445eee-2433-45e7-8f89-717d222af1e5"
      },
      "execution_count": 62,
      "outputs": [
        {
          "output_type": "stream",
          "name": "stdout",
          "text": [
            "1.0\n",
            "2 10.0\n"
          ]
        }
      ]
    },
    {
      "cell_type": "code",
      "source": [
        "#string\n",
        "a='hello'\n",
        "print(type(a))\n",
        "\n",
        "#assign str to var\n",
        "myvar='bob'\n",
        "print(myvar)\n",
        "\n",
        "#strings are arry\n",
        "a='hello'\n",
        "print(a[0])\n",
        "\n",
        "#loop in string\"'\n",
        "for i in 'banana':\n",
        "  print(i,end=',')\n",
        "\n",
        "\n"
      ],
      "metadata": {
        "colab": {
          "base_uri": "https://localhost:8080/"
        },
        "id": "3ieqp6XNMEkQ",
        "outputId": "4eb64235-a997-4539-b703-d90c748614bf"
      },
      "execution_count": 83,
      "outputs": [
        {
          "output_type": "stream",
          "name": "stdout",
          "text": [
            "<class 'str'>\n",
            "bob\n",
            "h\n",
            "b,a,n,a,n,a,ello w\n"
          ]
        }
      ]
    },
    {
      "cell_type": "code",
      "source": [
        "#slicing string\n",
        "c= 'hello world'\n",
        "print(c[1:7])\n",
        "print(c[0:])\n",
        "print(c[1:4])"
      ],
      "metadata": {
        "colab": {
          "base_uri": "https://localhost:8080/"
        },
        "id": "tjSVs6PAR6Ap",
        "outputId": "1d0e65fb-a001-4a72-fafc-8f8eb8076ca7"
      },
      "execution_count": 88,
      "outputs": [
        {
          "output_type": "stream",
          "name": "stdout",
          "text": [
            "ello w\n",
            "hello world\n",
            "ell\n"
          ]
        }
      ]
    },
    {
      "cell_type": "code",
      "source": [
        "print('hello what is your name')\n",
        "name=input()\n",
        "print('hello welcome '+ name)\n"
      ],
      "metadata": {
        "colab": {
          "base_uri": "https://localhost:8080/"
        },
        "id": "lzdeuqAlTob7",
        "outputId": "96d8055d-b560-49e6-f9a0-4b2b7f29843f"
      },
      "execution_count": 92,
      "outputs": [
        {
          "output_type": "stream",
          "name": "stdout",
          "text": [
            "hello what is your name\n",
            "bob\n",
            "hello welcome bob\n"
          ]
        }
      ]
    },
    {
      "cell_type": "code",
      "source": [
        "#string methods\n",
        "\n",
        "#uppercase\n",
        "print('type your name in small letters')\n",
        "name=input()\n",
        "print(name.upper())\n",
        "\n",
        "#lowr case\n",
        "print('type your name in capital')\n",
        "nmae=input()\n",
        "print('your name is: ' + name.lower())\n",
        "\n",
        "#replace\n",
        "print('type cat')\n",
        "name=input()\n",
        "print('replaced cat with dog: '+ name.replace('cat','dog'))\n",
        "\n",
        "#string formating \n",
        "string='im a {}'\n",
        "print(string.format('bob'))"
      ],
      "metadata": {
        "colab": {
          "base_uri": "https://localhost:8080/"
        },
        "id": "6xX5jhArUGw-",
        "outputId": "a887cad6-a715-40ad-fe9d-0da5c1109bc5"
      },
      "execution_count": 105,
      "outputs": [
        {
          "output_type": "stream",
          "name": "stdout",
          "text": [
            "type your name in small letters\n",
            "\n",
            "\n",
            "type your name in capital\n",
            "\n",
            "your name is: \n",
            "type cat\n",
            "\n",
            "replaced cat with dog: \n",
            "['hello world  hi this is ']\n"
          ]
        }
      ]
    }
  ]
}